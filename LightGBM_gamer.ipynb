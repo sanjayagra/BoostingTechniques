{
 "cells": [
  {
   "cell_type": "code",
   "execution_count": 1,
   "metadata": {},
   "outputs": [
    {
     "name": "stderr",
     "output_type": "stream",
     "text": [
      "/opt/python/python35/lib/python3.5/site-packages/sklearn/cross_validation.py:44: DeprecationWarning: This module was deprecated in version 0.18 in favor of the model_selection module into which all the refactored classes and functions are moved. Also note that the interface of the new CV iterators are different from that of this module. This module will be removed in 0.20.\n",
      "  \"This module will be removed in 0.20.\", DeprecationWarning)\n",
      "/opt/python/python35/lib/python3.5/site-packages/sklearn/grid_search.py:43: DeprecationWarning: This module was deprecated in version 0.18 in favor of the model_selection module into which all the refactored classes and functions are moved. This module will be removed in 0.20.\n",
      "  DeprecationWarning)\n"
     ]
    }
   ],
   "source": [
    "import pandas as pd\n",
    "import numpy as np\n",
    "import lightgbm as lgb\n",
    "from sklearn import preprocessing\n",
    "from sklearn.model_selection import train_test_split\n",
    "from sklearn.model_selection import GridSearchCV\n",
    "\n",
    "import xgboost as xgb\n",
    "from sklearn.preprocessing import LabelEncoder\n",
    "import numpy as np\n",
    "from sklearn.grid_search import GridSearchCV\n",
    "from sklearn.cross_validation import StratifiedKFold\n",
    "from sklearn.cross_validation import cross_val_score\n",
    "from sklearn.metrics import auc\n",
    "from sklearn import metrics"
   ]
  },
  {
   "cell_type": "markdown",
   "metadata": {},
   "source": [
    "## Data Prep"
   ]
  },
  {
   "cell_type": "code",
   "execution_count": null,
   "metadata": {},
   "outputs": [],
   "source": [
    "path = '/axp/rim/imsads/dev/sagra39/IMS_Hackathon_17/input/'\n",
    "veid_data_sample = pd.read_csv(path + 'veid_data.csv')\n",
    "Browsing_History_Sample = pd.read_csv(path + 'Browsing_History.csv')\n",
    "DEVICE_DATA_Sample = pd.read_csv(path + 'device_data.csv', encoding='iso-8859-1' )\n",
    "IP3_APP_sample = pd.read_csv(path + 'IP3_APP.csv')\n",
    "IP3_CM_sample = pd.read_csv(path + 'IP3_CM.csv')\n",
    "modelling_sample = pd.read_csv(path + 'Modeling.csv')\n",
    "\n",
    "print (DEVICE_DATA_Sample.shape, IP3_APP_sample.shape, IP3_CM_sample.shape, modelling_sample.shape)"
   ]
  },
  {
   "cell_type": "code",
   "execution_count": null,
   "metadata": {},
   "outputs": [],
   "source": [
    "#import datetime\n",
    "modelling_sample['hour'] = modelling_sample['datetime'].map(lambda x : datetime.datetime.strptime(x, '%d%b%Y:%H:%M:%S').hour )\n",
    "modelling_sample['day'] = modelling_sample['datetime'].map(lambda x : datetime.datetime.strptime(x, '%d%b%Y:%H:%M:%S').day )\n",
    "modelling_sample['month'] = modelling_sample['datetime'].map(lambda x : datetime.datetime.strptime(x, '%d%b%Y:%H:%M:%S').month )\n",
    "modelling_sample['weekday'] = modelling_sample['datetime'].map(lambda x : datetime.datetime.strptime(x, '%d%b%Y:%H:%M:%S').weekday() )\n"
   ]
  },
  {
   "cell_type": "code",
   "execution_count": null,
   "metadata": {},
   "outputs": [],
   "source": [
    "modelling_IP3CM_APP = modelling_sample.merge(IP3_CM_sample, on='ip_3', how = 'left').merge(IP3_APP_sample, on='ip_3', how = 'left')\n",
    "modelling_IP3CM_APP = modelling_IP3CM_APP.fillna(-999)\n",
    "print (modelling_IP3CM_APP.shape, modelling_sample.shape, IP3_CM_sample.shape, IP3_APP_sample.shape)"
   ]
  },
  {
   "cell_type": "code",
   "execution_count": null,
   "metadata": {},
   "outputs": [],
   "source": [
    "DEVICE_DATA_Sample = DEVICE_DATA_Sample.rename(columns={'UserAgent':\"user_agent\"})\n",
    "modelling_IP3CM_APP_device = modelling_IP3CM_APP.merge(DEVICE_DATA_Sample, on='user_agent', how = 'left')"
   ]
  },
  {
   "cell_type": "markdown",
   "metadata": {},
   "source": [
    "## Browsing Attributes"
   ]
  },
  {
   "cell_type": "code",
   "execution_count": null,
   "metadata": {},
   "outputs": [],
   "source": [
    "modelling_IP3CM_APP_device['new_var1'] = modelling_IP3CM_APP_device['Product_Color_Desc'].map(lambda x: 1 if x == 'GOLD' else 0)\n",
    "modelling_IP3CM_APP_device['new_var2'] = modelling_IP3CM_APP_device['Product_Color_Desc'].map(lambda x: 1 if x == 'PLATINUM' else 0)\n",
    "modelling_IP3CM_APP_device['new_var3'] = modelling_IP3CM_APP_device['sub_channel'].map(lambda x: 1 if x == 'Interactive' else 0)\n",
    "\n",
    "modelling_IP3CM_APP_device['new_var4'] = modelling_IP3CM_APP_device['product_list'].map(lambda x: 1 if x == ';UK:ICSS:E77' else 0)\n",
    "modelling_IP3CM_APP_device['new_var5'] = modelling_IP3CM_APP_device['product_list'].map(lambda x: 1 if x == ';UK:ICSS:E82' else 0)\n",
    "modelling_IP3CM_APP_device['new_var6'] = modelling_IP3CM_APP_device['product_list'].map(lambda x: 1 if x == ';UK:ICSS:I73' else 0)"
   ]
  },
  {
   "cell_type": "code",
   "execution_count": null,
   "metadata": {},
   "outputs": [],
   "source": [
    "browsing_path = '/axp/rim/imsads/dev/sagra39/IMS_Hackathon_17/input/browsing/'\n",
    "browsing_data_vars = pd.read_csv(browsing_path + 'browsing_data_vars.csv', header=None)\n",
    "browsing_data_vars1 = pd.read_csv(browsing_path + 'browsing_data_vars1.csv', header=None)\n",
    "browsing_data_vars2 = pd.read_csv(browsing_path + 'browsing_data_vars2.csv', header=None)\n",
    "browsing_data_vars3 = pd.read_csv(browsing_path + 'browsing_data_vars3.csv', header=None)\n",
    "browsing_data_vars4 = pd.read_csv(browsing_path + 'browsing_data_vars4.csv', header=None)\n",
    "browsing_data_vars5 = pd.read_csv(browsing_path + 'browsing_data_vars5.csv', header=None)\n",
    "browsing_data_vars6 = pd.read_csv(browsing_path + 'browsing_data_vars6.csv', header=None)\n",
    "print (browsing_data_vars.shape, browsing_data_vars1.shape, browsing_data_vars2.shape, browsing_data_vars3.shape, browsing_data_vars4.shape, browsing_data_vars5.shape, browsing_data_vars6.shape )"
   ]
  },
  {
   "cell_type": "code",
   "execution_count": null,
   "metadata": {},
   "outputs": [],
   "source": [
    "browsing_data_vars.columns=[['pcn']+[str(i)+'_br' for i in list(range(0,11))]]\n",
    "browsing_data_vars1.columns=[['pcn']+[str(i)+'_br1' for i in list(range(0,171))]]\n",
    "browsing_data_vars2.columns=[['pcn']+[str(i)+'_br2' for i in list(range(0,13))]]\n",
    "browsing_data_vars3.columns=[['pcn']+[str(i)+'_br3' for i in list(range(0,159))]]\n",
    "browsing_data_vars4.columns=[['pcn']+[str(i)+'_br4' for i in list(range(0,139))]]\n",
    "browsing_data_vars5.columns=[['pcn']+[str(i)+'_br5' for i in list(range(0,42))]]\n",
    "browsing_data_vars6.columns=[['pcn']+[str(i)+'_br6' for i in list(range(0,127))]]"
   ]
  },
  {
   "cell_type": "code",
   "execution_count": null,
   "metadata": {},
   "outputs": [],
   "source": [
    "modelling_IP3CM_APP_device_brows = modelling_IP3CM_APP_device.merge(browsing_data_vars, on = 'pcn', how = 'left').merge(browsing_data_vars1, on = 'pcn', how = 'left').merge(browsing_data_vars2,on = 'pcn', how = 'left').merge(browsing_data_vars3, on = 'pcn', how = 'left').merge(browsing_data_vars4, on = 'pcn', how = 'left').merge(browsing_data_vars5,on = 'pcn', how = 'left').merge(browsing_data_vars6, on = 'pcn', how = 'left')\n",
    "\n",
    "modelling_IP3CM_APP_device_brows.shape"
   ]
  },
  {
   "cell_type": "markdown",
   "metadata": {},
   "source": [
    "## Train, Valid and Test data split"
   ]
  },
  {
   "cell_type": "code",
   "execution_count": null,
   "metadata": {},
   "outputs": [],
   "source": [
    "## Train, Valid, Test split\n",
    "\n",
    "import copy\n",
    "final_data = copy.deepcopy(modelling_IP3CM_APP_device_brows)\n",
    "\n",
    "\n",
    "pcn  = pd.DataFrame({'pcn':list(set(final_data['pcn']))})\n",
    "train = pcn.sample(frac=0.7,random_state=1)\n",
    "valid = set(pcn['pcn'])-set(train['pcn'])\n",
    "valid = pd.DataFrame({'pcn':list(valid)})\n",
    "valid = valid.sample(frac=0.67,random_state=1)\n",
    "\n",
    "test  = set(pcn['pcn'])-set(train['pcn'])-set(valid['pcn'])\n",
    "test  = pd.DataFrame({'pcn':list(test)})\n",
    "\n",
    "print(train.shape)\n",
    "print(valid.shape)\n",
    "print(test.shape)\n",
    "\n",
    "print(set(train['pcn'])&set(valid['pcn'])&set(test['pcn']))\n",
    "\n",
    "train = train.merge(final_data, on=['pcn'], how='left')\n",
    "valid = valid.merge(final_data, on=['pcn'], how='left')\n",
    "test  = test.merge(final_data, on=['pcn'], how='left')\n",
    "\n",
    "print(train.shape)\n",
    "print(valid.shape)\n",
    "print(test.shape)"
   ]
  },
  {
   "cell_type": "code",
   "execution_count": null,
   "metadata": {},
   "outputs": [],
   "source": [
    "list_drop = ['pcn', 'post_uni_visid', 'datetime', 'Market_cd_x', 'Market_cd_y']\n",
    "train_x = train.drop(list_drop, axis=1)\n",
    "train_y = train['Gamer_flag']\n",
    "\n",
    "valid_x = valid.drop(list_drop, axis=1)\n",
    "valid_y = valid['Gamer_flag']\n",
    "\n",
    "test_x = test.drop(list_drop, axis=1)\n",
    "test_y = test['Gamer_flag']\n",
    "\n",
    "\n",
    "list_cat= []\n",
    "for i in train_x:\n",
    "    if train_x[i].dtypes == 'object':\n",
    "        list_cat.append(i)\n",
    "list_cat"
   ]
  },
  {
   "cell_type": "code",
   "execution_count": null,
   "metadata": {},
   "outputs": [],
   "source": [
    "train_x = train_x.fillna(-999)\n",
    "valid_x = valid_x.fillna(-999)\n",
    "test_x = test_x.fillna(-999)\n",
    "for i in list_cat:\n",
    "        train_x[i] = train_x[i].map(lambda x : str(x))\n",
    "        valid_x[i] = valid_x[i].map(lambda x : str(x))\n",
    "        test_x[i] = test_x[i].map(lambda x : str(x))\n",
    "        \n",
    "        le = preprocessing.LabelEncoder()\n",
    "        train_x[i] = le.fit_transform(train_x[i])\n",
    "        valid_x[i] = le.fit_transform(valid_x[i])\n",
    "        test_x[i] = le.fit_transform(test_x[i])"
   ]
  },
  {
   "cell_type": "markdown",
   "metadata": {},
   "source": [
    "## Final submission data"
   ]
  },
  {
   "cell_type": "code",
   "execution_count": null,
   "metadata": {},
   "outputs": [],
   "source": [
    "path = '/axp/rim/imsads/dev/sagra39/IMS_Hackathon_17/input/'\n",
    "DEVICE_DATA_Sample = pd.read_csv(path + 'device_data.csv', encoding='iso-8859-1' )\n",
    "IP3_APP_sample = pd.read_csv(path + 'IP3_APP.csv')\n",
    "IP3_CM_sample = pd.read_csv(path + 'IP3_CM.csv')\n",
    "modelling_sample = pd.read_csv(path + 'Modeling.csv')\n",
    "print (DEVICE_DATA_Sample.shape, IP3_APP_sample.shape, IP3_CM_sample.shape, modelling_sample.shape) "
   ]
  },
  {
   "cell_type": "code",
   "execution_count": null,
   "metadata": {},
   "outputs": [],
   "source": [
    "path = '/axp/rim/imsads/dev/sagra39/IMS_Hackathon_17/input/'\n",
    "InterimEvaluation = pd.read_csv(path + 'FinalEvaluation.csv')\n",
    "print (InterimEvaluation.shape, IP3_APP_sample.shape, IP3_CM_sample.shape, modelling_sample.shape)"
   ]
  },
  {
   "cell_type": "code",
   "execution_count": null,
   "metadata": {},
   "outputs": [],
   "source": [
    "import datetime\n",
    "InterimEvaluation['hour'] = InterimEvaluation['datetime'].map(lambda x : datetime.datetime.strptime(x, '%d%b%Y:%H:%M:%S').hour )\n",
    "InterimEvaluation['day'] = InterimEvaluation['datetime'].map(lambda x : datetime.datetime.strptime(x, '%d%b%Y:%H:%M:%S').day )\n",
    "InterimEvaluation['month'] = InterimEvaluation['datetime'].map(lambda x : datetime.datetime.strptime(x, '%d%b%Y:%H:%M:%S').month )\n",
    "InterimEvaluation['weekday'] = InterimEvaluation['datetime'].map(lambda x : datetime.datetime.strptime(x, '%d%b%Y:%H:%M:%S').weekday() )"
   ]
  },
  {
   "cell_type": "code",
   "execution_count": null,
   "metadata": {},
   "outputs": [],
   "source": [
    "InterimEvaluation_IP3CM_APP = InterimEvaluation.merge(IP3_CM_sample, on='ip_3', how = 'left').merge(IP3_APP_sample, on='ip_3', how = 'left')\n",
    "InterimEvaluation_IP3CM_APP = InterimEvaluation_IP3CM_APP.fillna(-999)\n",
    "print (InterimEvaluation_IP3CM_APP.shape, modelling_sample.shape, IP3_CM_sample.shape, IP3_APP_sample.shape) "
   ]
  },
  {
   "cell_type": "code",
   "execution_count": null,
   "metadata": {},
   "outputs": [],
   "source": [
    "DEVICE_DATA_Sample = DEVICE_DATA_Sample.rename(columns={'UserAgent':\"user_agent\"})\n",
    "InterimEvaluation_IP3CM_APP_device = InterimEvaluation_IP3CM_APP.merge(DEVICE_DATA_Sample, on='user_agent', how = 'left') "
   ]
  },
  {
   "cell_type": "code",
   "execution_count": null,
   "metadata": {},
   "outputs": [],
   "source": [
    "InterimEvaluation_IP3CM_APP_device['new_var1'] = InterimEvaluation_IP3CM_APP_device['Product_Color_Desc'].map(lambda x: 1 if x == 'GOLD' else 0)\n",
    "InterimEvaluation_IP3CM_APP_device['new_var2'] = InterimEvaluation_IP3CM_APP_device['Product_Color_Desc'].map(lambda x: 1 if x == 'PLATINUM' else 0)\n",
    "InterimEvaluation_IP3CM_APP_device['new_var3'] = InterimEvaluation_IP3CM_APP_device['sub_channel'].map(lambda x: 1 if x == 'Interactive' else 0)\n",
    "\n",
    "InterimEvaluation_IP3CM_APP_device['new_var4'] = InterimEvaluation_IP3CM_APP_device['product_list'].map(lambda x: 1 if x == ';UK:ICSS:E77' else 0)\n",
    "InterimEvaluation_IP3CM_APP_device['new_var5'] = InterimEvaluation_IP3CM_APP_device['product_list'].map(lambda x: 1 if x == ';UK:ICSS:E82' else 0)\n",
    "InterimEvaluation_IP3CM_APP_device['new_var6'] = InterimEvaluation_IP3CM_APP_device['product_list'].map(lambda x: 1 if x == ';UK:ICSS:I73' else 0)"
   ]
  },
  {
   "cell_type": "code",
   "execution_count": null,
   "metadata": {},
   "outputs": [],
   "source": [
    "InterimEvaluation_IP3CM_APP_device_brows = InterimEvaluation_IP3CM_APP_device.merge(browsing_data_vars, on = 'pcn', how = 'left').merge(browsing_data_vars1, on = 'pcn', how = 'left').merge(browsing_data_vars2,on = 'pcn', how = 'left').merge(browsing_data_vars3, on = 'pcn', how = 'left').merge(browsing_data_vars4, on = 'pcn', how = 'left').merge(browsing_data_vars5,on = 'pcn', how = 'left').merge(browsing_data_vars6, on = 'pcn', how = 'left')\n",
    "\n",
    "InterimEvaluation_IP3CM_APP_device_brows.shape"
   ]
  },
  {
   "cell_type": "code",
   "execution_count": null,
   "metadata": {},
   "outputs": [],
   "source": [
    "list_drop = ['pcn', 'post_uni_visid', 'datetime', 'Market_cd_x', 'Market_cd_y']\n",
    "final_sub = InterimEvaluation_IP3CM_APP_device_brows.drop(list_drop, axis=1)\n",
    "#final_sub_y = InterimEvaluation_IP3CM_APP_device_brows['Gamer_flag']\n",
    "\n",
    "list_cat=['ip','geo_region', 'geo_city',\n",
    " 'product_list',\n",
    " 'user_agent',\n",
    " 'Product_Color_Desc',\n",
    " 'sub_channel',\n",
    " 'ip_3',\n",
    " 'DeviceType',\n",
    " 'Osname',\n",
    " 'Browsername',\n",
    " 'primaryHardwareType',\n",
    " 'model',\n",
    " '8_br',\n",
    " '9_br']"
   ]
  },
  {
   "cell_type": "code",
   "execution_count": null,
   "metadata": {},
   "outputs": [],
   "source": [
    "for i in list_cat:\n",
    "        print(i)\n",
    "        final_sub[i] = final_sub[i].map(lambda x : str(x))\n",
    "        \n",
    "        le = preprocessing.LabelEncoder()\n",
    "\n",
    "        final_sub[i] = le.fit_transform(final_sub[i])"
   ]
  },
  {
   "cell_type": "markdown",
   "metadata": {},
   "source": [
    "## LightGBM model"
   ]
  },
  {
   "cell_type": "code",
   "execution_count": null,
   "metadata": {},
   "outputs": [],
   "source": [
    "model=lgb.LGBMClassifier(boosting_type='gbdt', num_leaves=35, max_depth=-1, learning_rate=0.005, n_estimators=1500, max_bin=255, subsample_for_bin=50000, objective=None, min_split_gain=0.0, min_child_weight=5, min_child_samples=10, subsample=1.0, subsample_freq=1, colsample_bytree=1.0, reg_alpha=0.0, reg_lambda=0.0, silent=True)"
   ]
  },
  {
   "cell_type": "code",
   "execution_count": null,
   "metadata": {},
   "outputs": [],
   "source": [
    "model.fit(train_x,train_y,\n",
    "        eval_set=[(valid_x,valid_y)],\n",
    "        eval_metric='logloss',\n",
    "        early_stopping_rounds=30) "
   ]
  },
  {
   "cell_type": "code",
   "execution_count": null,
   "metadata": {},
   "outputs": [],
   "source": [
    "pred_valid =model.predict_proba(valid_x)\n",
    "pred_test =model.predict_proba(test_x)\n",
    "pred_train =model.predict_proba(train_x)"
   ]
  },
  {
   "cell_type": "code",
   "execution_count": null,
   "metadata": {},
   "outputs": [],
   "source": [
    "dt_valid=pd.DataFrame(pred_valid)\n",
    "dt_test=pd.DataFrame(pred_test)\n",
    "dt_train=pd.DataFrame(pred_train)\n",
    "\n",
    "dt_valid.columns=['0_score','1_score']\n",
    "dt_test.columns=['0_score','1_score']\n",
    "dt_train.columns=['0_score','1_score']\n",
    "print(dt_valid.shape, dt_test.shape, dt_train.shape)"
   ]
  },
  {
   "cell_type": "code",
   "execution_count": null,
   "metadata": {},
   "outputs": [],
   "source": [
    "# Evaluation\n",
    "from sklearn.metrics import roc_curve, auc\n",
    "fpr_valid,tpr_valid,thresholds_valid = roc_curve(valid_y,dt_valid['1_score'])\n",
    "fpr_test,tpr_test,thresholds_test = roc_curve(test_y,dt_test['1_score'])\n",
    "fpr_train,tpr_train,thresholds_train = roc_curve(train_y,dt_train['1_score'])\n",
    "\n",
    "print ('valid:', 2*auc(fpr_valid,tpr_valid) - 1, 'test:', 2*auc(fpr_test,tpr_test) - 1,   'train:', 2*auc(fpr_train,tpr_train) - 1)"
   ]
  },
  {
   "cell_type": "markdown",
   "metadata": {},
   "source": [
    "## Prediction on Final data "
   ]
  },
  {
   "cell_type": "code",
   "execution_count": null,
   "metadata": {},
   "outputs": [],
   "source": [
    "pred_valid = pd.DataFrame(model.predict_proba(final_sub), columns=['score'])\n",
    "dt_final_sub_pred=pd.DataFrame(final_sub_pred)\n",
    "dt_final_sub_pred.columns=['0_score','1_score']"
   ]
  },
  {
   "cell_type": "code",
   "execution_count": null,
   "metadata": {},
   "outputs": [],
   "source": [
    "dt_final_sub_pred['gamer_flag'] = dt_final_sub_pred['1_score'].map(lambda x : 1 if x>0.176 else 0)"
   ]
  },
  {
   "cell_type": "code",
   "execution_count": null,
   "metadata": {},
   "outputs": [],
   "source": [
    "x=InterimEvaluation[['pcn']].join(dt_final_sub_pred['gamer_flag'])"
   ]
  },
  {
   "cell_type": "code",
   "execution_count": null,
   "metadata": {},
   "outputs": [],
   "source": [
    "x.to_csv('/axp/rim/imsads/dev/sagra39/IMS_Hackathon_17/input/GGN23_Final.csv',index=False)"
   ]
  }
 ],
 "metadata": {
  "kernelspec": {
   "display_name": "Python 3",
   "language": "python",
   "name": "python3"
  },
  "language_info": {
   "codemirror_mode": {
    "name": "ipython",
    "version": 3
   },
   "file_extension": ".py",
   "mimetype": "text/x-python",
   "name": "python",
   "nbconvert_exporter": "python",
   "pygments_lexer": "ipython3",
   "version": "3.5.3"
  },
  "mlstudio": {
   "author": "sagra39",
   "created": "2017-09-20T22:36:36.066897",
   "version": "v1.0.6"
  }
 },
 "nbformat": 4,
 "nbformat_minor": 2
}
