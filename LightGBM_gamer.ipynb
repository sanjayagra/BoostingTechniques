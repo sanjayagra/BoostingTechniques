{
 "cells": [
  {
   "cell_type": "code",
   "execution_count": 1,
   "metadata": {},
   "outputs": [
    {
     "name": "stderr",
     "output_type": "stream",
     "text": [
      "/opt/python/python35/lib/python3.5/site-packages/sklearn/cross_validation.py:44: DeprecationWarning: This module was deprecated in version 0.18 in favor of the model_selection module into which all the refactored classes and functions are moved. Also note that the interface of the new CV iterators are different from that of this module. This module will be removed in 0.20.\n",
      "  \"This module will be removed in 0.20.\", DeprecationWarning)\n",
      "/opt/python/python35/lib/python3.5/site-packages/sklearn/grid_search.py:43: DeprecationWarning: This module was deprecated in version 0.18 in favor of the model_selection module into which all the refactored classes and functions are moved. This module will be removed in 0.20.\n",
      "  DeprecationWarning)\n"
     ]
    }
   ],
   "source": [
    "import pandas as pd\n",
    "import numpy as np\n",
    "import lightgbm as lgb\n",
    "from sklearn import preprocessing\n",
    "from sklearn.model_selection import train_test_split\n",
    "from sklearn.model_selection import GridSearchCV\n",
    "\n",
    "import xgboost as xgb\n",
    "from sklearn.preprocessing import LabelEncoder\n",
    "import numpy as np\n",
    "from sklearn.grid_search import GridSearchCV\n",
    "from sklearn.cross_validation import StratifiedKFold\n",
    "from sklearn.cross_validation import cross_val_score\n",
    "from sklearn.metrics import auc\n",
    "from sklearn import metrics"
   ]
  },
  {
   "cell_type": "code",
   "execution_count": 2,
   "metadata": {},
   "outputs": [],
   "source": [
    "path1 = '/axp/rim/imsads/dev/sagra39/IMS_Hackathon_17/input/derived/'\n",
    "modelling_IP3CM_APP_device = pd.read_csv(path1 + 'modelling_IP3CM_APP_device.csv')"
   ]
  },
  {
   "cell_type": "code",
   "execution_count": 3,
   "metadata": {},
   "outputs": [
    {
     "name": "stdout",
     "output_type": "stream",
     "text": [
      "(74728, 1)\n",
      "(21458, 1)\n",
      "(10569, 1)\n",
      "set()\n",
      "(74728, 190)\n",
      "(21458, 190)\n",
      "(10569, 190)\n"
     ]
    }
   ],
   "source": [
    "import copy\n",
    "final_data = copy.deepcopy(modelling_IP3CM_APP_device)\n",
    "\n",
    "\n",
    "pcn  = pd.DataFrame({'pcn':list(set(final_data['pcn']))})\n",
    "train = pcn.sample(frac=0.7,random_state=1)\n",
    "valid = set(pcn['pcn'])-set(train['pcn'])\n",
    "valid = pd.DataFrame({'pcn':list(valid)})\n",
    "valid = valid.sample(frac=0.67,random_state=1)\n",
    "\n",
    "test  = set(pcn['pcn'])-set(train['pcn'])-set(valid['pcn'])\n",
    "test  = pd.DataFrame({'pcn':list(test)})\n",
    "\n",
    "print(train.shape)\n",
    "print(valid.shape)\n",
    "print(test.shape)\n",
    "\n",
    "print(set(train['pcn'])&set(valid['pcn'])&set(test['pcn']))\n",
    "\n",
    "train = train.merge(final_data, on=['pcn'], how='left')\n",
    "valid = valid.merge(final_data, on=['pcn'], how='left')\n",
    "test  = test.merge(final_data, on=['pcn'], how='left')\n",
    "\n",
    "print(train.shape)\n",
    "print(valid.shape)\n",
    "print(test.shape)\n",
    "\n",
    "\n",
    "#train.to_csv(path+'train.csv',index=False)\n",
    "#valid.to_csv(path+'valid.csv',index=False)\n",
    "#test.to_csv(path+'test.csv',index=False)"
   ]
  },
  {
   "cell_type": "code",
   "execution_count": 4,
   "metadata": {},
   "outputs": [
    {
     "data": {
      "text/plain": [
       "['ip',\n",
       " 'geo_region',\n",
       " 'geo_city',\n",
       " 'product_list',\n",
       " 'user_agent',\n",
       " 'Product_Color_Desc',\n",
       " 'sub_channel',\n",
       " 'ip_3',\n",
       " 'DeviceType',\n",
       " 'Osname',\n",
       " 'Browsername',\n",
       " 'primaryHardwareType',\n",
       " 'model']"
      ]
     },
     "execution_count": 4,
     "metadata": {},
     "output_type": "execute_result"
    }
   ],
   "source": [
    "list_drop = ['pcn', 'post_uni_visid', 'datetime', 'Market_cd_x', 'Market_cd_y']\n",
    "train_x = train.drop(list_drop, axis=1)\n",
    "train_y = train['Gamer_flag']\n",
    "\n",
    "valid_x = valid.drop(list_drop, axis=1)\n",
    "valid_y = valid['Gamer_flag']\n",
    "\n",
    "test_x = test.drop(list_drop, axis=1)\n",
    "test_y = test['Gamer_flag']\n",
    "\n",
    "\n",
    "list_cat= []\n",
    "for i in train_x:\n",
    "    if train_x[i].dtypes == 'object':\n",
    "        list_cat.append(i)\n",
    "list_cat"
   ]
  },
  {
   "cell_type": "code",
   "execution_count": null,
   "metadata": {},
   "outputs": [],
   "source": [
    "train_x = train_x.fillna(-999)\n",
    "valid_x = valid_x.fillna(-999)\n",
    "test_x = test_x.fillna(-999)\n",
    "for i in list_cat:\n",
    "        train_x[i] = train_x[i].map(lambda x : str(x))\n",
    "        valid_x[i] = valid_x[i].map(lambda x : str(x))\n",
    "        test_x[i] = test_x[i].map(lambda x : str(x))\n",
    "        \n",
    "        le = preprocessing.LabelEncoder()\n",
    "        train_x[i] = le.fit_transform(train_x[i])\n",
    "        valid_x[i] = le.fit_transform(valid_x[i])\n",
    "        test_x[i] = le.fit_transform(test_x[i])"
   ]
  },
  {
   "cell_type": "code",
   "execution_count": null,
   "metadata": {},
   "outputs": [],
   "source": []
  },
  {
   "cell_type": "code",
   "execution_count": null,
   "metadata": {},
   "outputs": [],
   "source": []
  },
  {
   "cell_type": "code",
   "execution_count": null,
   "metadata": {},
   "outputs": [],
   "source": []
  }
 ],
 "metadata": {
  "kernelspec": {
   "display_name": "Python 3",
   "language": "python",
   "name": "python3"
  },
  "language_info": {
   "codemirror_mode": {
    "name": "ipython",
    "version": 3
   },
   "file_extension": ".py",
   "mimetype": "text/x-python",
   "name": "python",
   "nbconvert_exporter": "python",
   "pygments_lexer": "ipython3",
   "version": "3.5.3"
  },
  "mlstudio": {
   "author": "sagra39",
   "created": "2017-09-20T23:33:23.314322",
   "version": "v1.0.6"
  }
 },
 "nbformat": 4,
 "nbformat_minor": 2
}
