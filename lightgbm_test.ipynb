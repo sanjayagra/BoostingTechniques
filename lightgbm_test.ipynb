{
 "cells": [
  {
   "cell_type": "code",
   "execution_count": 10,
   "metadata": {},
   "outputs": [],
   "source": [
    "import lightgbm as lgb\n",
    "import pandas as pd\n",
    "from sklearn.metrics import roc_curve, auc\n"
   ]
  },
  {
   "cell_type": "code",
   "execution_count": null,
   "metadata": {},
   "outputs": [],
   "source": [
    "# load or create your dataset\n",
    "path       = \n",
    "train_data =\n",
    "valid_data = \n",
    "test_data  =\n",
    "\n",
    "y_train = df_train[0].values\n",
    "y_test = df_test[0].values\n",
    "X_train = df_train.drop(0, axis=1).values\n",
    "X_test = df_test.drop(0, axis=1).values"
   ]
  },
  {
   "cell_type": "code",
   "execution_count": null,
   "metadata": {},
   "outputs": [],
   "source": [
    "train = pd.read_csv(path+train_data)\n",
    "valid = pd.read_csv(path+valid_data)\n",
    "test  = pd.read_csv(path+test_data)\n",
    "\n",
    "\n",
    "train_x = train[].values\n",
    "train_y = train[].values\n",
    "\n",
    "valid_x = valid[].values\n",
    "valid_y = valid[].values\n",
    "\n",
    "test_x = test[].values\n",
    "test_y = test[].values"
   ]
  },
  {
   "cell_type": "code",
   "execution_count": 8,
   "metadata": {},
   "outputs": [],
   "source": [
    "model=lgb.LGBMClassifier(boosting_type='gbdt', num_leaves=31, max_depth=-1, learning_rate=0.1, n_estimators=10, max_bin=255, subsample_for_bin=50000, objective=None, min_split_gain=0.0, min_child_weight=5, min_child_samples=10, subsample=1.0, subsample_freq=1, colsample_bytree=1.0, reg_alpha=0.0, reg_lambda=0.0, random_state=0, n_jobs=-1, silent=True)"
   ]
  },
  {
   "cell_type": "code",
   "execution_count": null,
   "metadata": {},
   "outputs": [],
   "source": [
    "model.fit(train_x,train_y,\n",
    "        eval_set=[(valid_x,valid_y)],\n",
    "        eval_metric='logloss',\n",
    "        early_stopping_rounds=5)\n",
    "\n",
    "pred_valid =pd.DataFrame(model.predict(valid_x, num_iteration=gbm.best_iteration_),columns=['score'])\n",
    "pred_test  =pd.DataFrame(model.predict(test_x, num_iteration=gbm.best_iteration_),columns=['score'])"
   ]
  },
  {
   "cell_type": "code",
   "execution_count": null,
   "metadata": {},
   "outputs": [],
   "source": [
    "pred_valid = valid[['pcn','Gamer_flag']].join(pred_valid, how='inner')\n",
    "pred_test = test[['pcn','Gamer_flag']].join(pred_test, how='inner')"
   ]
  },
  {
   "cell_type": "code",
   "execution_count": null,
   "metadata": {},
   "outputs": [],
   "source": [
    "# Evaluation\n",
    "\n",
    "fpr,tpr,thresholds = roc_curve(pred_valid['Gamer_flag'],pred_valid['score'])\n",
    "\n",
    "print 'valid:', 2*auc(fpr,tpr) - 1"
   ]
  }
 ],
 "metadata": {
  "kernelspec": {
   "display_name": "Python 3",
   "language": "python",
   "name": "python3"
  },
  "language_info": {
   "codemirror_mode": {
    "name": "ipython",
    "version": 3
   },
   "file_extension": ".py",
   "mimetype": "text/x-python",
   "name": "python",
   "nbconvert_exporter": "python",
   "pygments_lexer": "ipython3",
   "version": "3.5.3"
  },
  "mlstudio": {
   "author": "akalr19",
   "created": "2017-09-20T12:27:38.199936",
   "version": "v1.0.6"
  }
 },
 "nbformat": 4,
 "nbformat_minor": 2
}
