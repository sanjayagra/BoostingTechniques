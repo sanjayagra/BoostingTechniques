{
 "cells": [
  {
   "cell_type": "code",
   "execution_count": 1,
   "metadata": {},
   "outputs": [
    {
     "ename": "SyntaxError",
     "evalue": "invalid syntax (<ipython-input-1-e3da05b5dc7e>, line 11)",
     "output_type": "error",
     "traceback": [
      "\u001b[0;36m  File \u001b[0;32m\"<ipython-input-1-e3da05b5dc7e>\"\u001b[0;36m, line \u001b[0;32m11\u001b[0m\n\u001b[0;31m    path       =\u001b[0m\n\u001b[0m                 ^\u001b[0m\n\u001b[0;31mSyntaxError\u001b[0m\u001b[0;31m:\u001b[0m invalid syntax\n"
     ]
    }
   ],
   "source": [
    "import pandas as pd\n",
    "import xgboost as xgb\n",
    "from sklearn.preprocessing import LabelEncoder\n",
    "import numpy as np\n",
    "from sklearn.grid_search import GridSearchCV\n",
    "from sklearn.cross_validation import StratifiedKFold\n",
    "from sklearn.cross_validation import cross_val_score\n",
    "from sklearn.metrics import roc_curve, auc\n",
    "import warnings\n",
    "\n",
    "path       = \n",
    "train_data =\n",
    "valid_data = \n",
    "test_data  =\n"
   ]
  },
  {
   "cell_type": "code",
   "execution_count": null,
   "metadata": {},
   "outputs": [],
   "source": [
    "train = pd.read_csv(path+train_data)\n",
    "valid = pd.read_csv(path+valid_data)\n",
    "test  = pd.read_csv(path+test_data)\n"
   ]
  },
  {
   "cell_type": "code",
   "execution_count": null,
   "metadata": {},
   "outputs": [],
   "source": [
    "nonnumeric_columns = ['off_code']\n",
    "le = LabelEncoder()\n",
    "for feature in nonnumeric_columns:\n",
    "    train[feature] = le.fit_transform(train[feature])\n",
    "    valid[feature] = le.fit_transform(valid[feature])\n",
    "    test[feature]  = le.fit_transform(test[feature])\n",
    "    \n",
    "       \n",
    "    "
   ]
  },
  {
   "cell_type": "code",
   "execution_count": 5,
   "metadata": {},
   "outputs": [],
   "source": [
    "parameters = {}\n",
    "parameters['eta']              = 0.01\n",
    "parameters['max_depth']        = 6\n",
    "parameters['subsample']        = 0.75\n",
    "parameters['colsample_bytree'] = 0.75\n",
    "parameters['objective']        = 'binary:logistic'\n",
    "parameters['eval_metric']      = 'auc'\n",
    "parameters['seed']             = 1008\n",
    "parameters['nthread']          = 20\n",
    "parameters['tree_method']      ='exact'\n",
    "param['booster']               ='gbtree'"
   ]
  },
  {
   "cell_type": "code",
   "execution_count": null,
   "metadata": {},
   "outputs": [],
   "source": [
    "train_matrix = xgb.DMatrix(data=train, label=)\n",
    "valid_matrix = xgb.DMatrix(data=valid, label=)\n",
    "test_matrix  = xgb.DMatrix(data=test, label=)\n",
    "\n",
    "model = xgb.train(params=param, dtrain=train_matrix, num_boost_round=25)"
   ]
  },
  {
   "cell_type": "code",
   "execution_count": null,
   "metadata": {},
   "outputs": [],
   "source": [
    "pred_valid = pd.DataFrame(model.predict_proba(valid_matrix), columns=['score'])\n",
    "pred_test  = pd.DataFrame(model.predict_proba(test_matrix), columns=['score'])\n",
    "\n"
   ]
  },
  {
   "cell_type": "code",
   "execution_count": null,
   "metadata": {},
   "outputs": [],
   "source": [
    "# Variable Importance\n",
    "for variable,score in sorted(model.get_fscore().items(), key=lambda x : x[1], reverse=True):\n",
    "  print variable,score"
   ]
  },
  {
   "cell_type": "code",
   "execution_count": null,
   "metadata": {},
   "outputs": [],
   "source": [
    "pred_valid = valid[['pcn','Gamer_flag']].join(pred_valid, how='inner')\n",
    "pred_test = test[['pcn','Gamer_flag']].join(pred_test, how='inner')"
   ]
  },
  {
   "cell_type": "code",
   "execution_count": null,
   "metadata": {},
   "outputs": [],
   "source": [
    "# Evaluation\n",
    "\n",
    "fpr,tpr,thresholds = roc_curve(pred_valid['Gamer_flag'],pred_valid['score'])\n",
    "\n",
    "print 'valid:', 2*auc(fpr,tpr) - 1\n"
   ]
  }
 ],
 "metadata": {
  "kernelspec": {
   "display_name": "Python 3",
   "language": "python",
   "name": "python3"
  },
  "language_info": {
   "codemirror_mode": {
    "name": "ipython",
    "version": 3
   },
   "file_extension": ".py",
   "mimetype": "text/x-python",
   "name": "python",
   "nbconvert_exporter": "python",
   "pygments_lexer": "ipython3",
   "version": "3.5.3"
  },
  "mlstudio": {
   "author": "akalr19",
   "created": "2017-09-20T11:33:25.171051",
   "version": "v1.0.6"
  }
 },
 "nbformat": 4,
 "nbformat_minor": 2
}
